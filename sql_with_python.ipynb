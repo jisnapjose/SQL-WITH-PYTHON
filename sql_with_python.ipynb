{
  "nbformat": 4,
  "nbformat_minor": 0,
  "metadata": {
    "colab": {
      "name": "sql with python.ipynb",
      "provenance": [],
      "collapsed_sections": []
    },
    "kernelspec": {
      "name": "python3",
      "display_name": "Python 3"
    },
    "language_info": {
      "name": "python"
    }
  },
  "cells": [
    {
      "cell_type": "code",
      "execution_count": 15,
      "metadata": {
        "colab": {
          "base_uri": "https://localhost:8080/"
        },
        "id": "hpJvAqiP1KlU",
        "outputId": "c37bdfae-79c1-4609-e945-765a8fcd0ac3"
      },
      "outputs": [
        {
          "output_type": "stream",
          "name": "stdout",
          "text": [
            "Opened database successfully\n"
          ]
        }
      ],
      "source": [
        "import sqlite3\n",
        "\n",
        "conn = sqlite3.connect('test.db')\n",
        "\n",
        "print(\"Opened database successfully\")\n"
      ]
    },
    {
      "cell_type": "code",
      "source": [
        "cursor = conn .cursor()\n",
        "cursor.execute(\"DROP TABLE IF EXISTS EMPLOYEE\")"
      ],
      "metadata": {
        "colab": {
          "base_uri": "https://localhost:8080/"
        },
        "id": "fK9qvfG23rpw",
        "outputId": "a512b75e-d0e0-44d1-9dbc-bb741f819f08"
      },
      "execution_count": 16,
      "outputs": [
        {
          "output_type": "execute_result",
          "data": {
            "text/plain": [
              "<sqlite3.Cursor at 0x7f58ea321650>"
            ]
          },
          "metadata": {},
          "execution_count": 16
        }
      ]
    },
    {
      "cell_type": "code",
      "source": [
        "X= '''CREATE TABLE IF NOT EXISTS projects (\n",
        "\tid integer PRIMARY KEY,\n",
        "\tname text NOT NULL,\n",
        "\tbegin_date text,\n",
        "\tend_date text\n",
        "); '''"
      ],
      "metadata": {
        "id": "cHOh27Lz4WpB"
      },
      "execution_count": 17,
      "outputs": []
    },
    {
      "cell_type": "code",
      "source": [
        "conn.execute(X)\n",
        "print(\"Table created\")"
      ],
      "metadata": {
        "colab": {
          "base_uri": "https://localhost:8080/"
        },
        "id": "6Xb8q32W47uD",
        "outputId": "1de51094-85dd-4038-aa97-ece0895ede66"
      },
      "execution_count": 19,
      "outputs": [
        {
          "output_type": "stream",
          "name": "stdout",
          "text": [
            "Table created\n"
          ]
        }
      ]
    },
    {
      "cell_type": "code",
      "source": [
        "conn.commit()\n"
      ],
      "metadata": {
        "id": "69wO1Tzc5DsK"
      },
      "execution_count": 20,
      "outputs": []
    },
    {
      "cell_type": "code",
      "source": [
        "import sqlite3\n",
        "\n",
        " \n",
        "X = sqlite3.connect('NeDB.db')\n",
        " \n",
        "Y = X.cursor()\n",
        "\n",
        " \n",
        "Y.execute('''CREATE TABLE Employee(date text, First_Name text, Last_Name text, Age real)''')\n",
        "\n",
        " \n",
        "Y.execute(\"INSERT INTO Employee VALUES ('2020-01-01','John','Adam',32)\")\n",
        " \n",
        "X.commit()\n",
        "\n",
        "Y.close()"
      ],
      "metadata": {
        "id": "boruCRDh6Qml"
      },
      "execution_count": 21,
      "outputs": []
    },
    {
      "cell_type": "code",
      "source": [
        "import sqlite3\n",
        "\n",
        " \n",
        "X = sqlite3.connect('NeDB.db')\n",
        " \n",
        "Y = X.cursor()\n",
        "\n",
        " \n",
        "Y.execute('''CREATE TABLE Employee(date text, First_Name text, Last_Name text, Age real)''')\n",
        "\n",
        " \n",
        "Y.execute(\"INSERT INTO Employee VALUES ('2020-01-01','John','Adam',32),('2020-01-01','Mike','Joseph',30),('2020-01-01','Ann','Maria',32);\")\n",
        "\n",
        " \n",
        "X.commit()\n",
        "\n",
        "Y.close()"
      ],
      "metadata": {
        "id": "vgX3k2Nf6inj"
      },
      "execution_count": 25,
      "outputs": []
    },
    {
      "cell_type": "code",
      "source": [
        "import sqlite3\n",
        " \n",
        "conn = sqlite3.connect('NewDB.db')\n",
        "\n",
        " \n",
        "cursor = conn.cursor()\n",
        "\n",
        " \n",
        "table =\"\"\"CREATE TABLE STUDENT(NAME VARCHAR(255), CLASS VARCHAR(255), SECTION VARCHAR(255));\"\"\"\n",
        "cursor.execute(table)\n",
        "\n",
        "students = [('John', '8', 'A'),\n",
        "   ('Adam', '8', 'B'),\n",
        "   ('Ann', '10', 'A'),\n",
        "]\n",
        "\n",
        "cursor.executemany('INSERT INTO STUDENT VALUES (?,?,?)', students)\n",
        "\n",
        "print(\"Data Inserted in the table: \")\n",
        "data=cursor.execute('''SELECT * FROM STUDENT''')\n",
        "for row in data:\n",
        "\tprint(row)\n",
        "\n",
        "\n",
        "conn.commit()\n",
        "\n",
        "conn.close()"
      ],
      "metadata": {
        "colab": {
          "base_uri": "https://localhost:8080/"
        },
        "id": "QRJCY7xP8seI",
        "outputId": "97cc8bb9-9c8f-45b8-9a7f-c5a7bdedc2e5"
      },
      "execution_count": 26,
      "outputs": [
        {
          "output_type": "stream",
          "name": "stdout",
          "text": [
            "Data Inserted in the table: \n",
            "('John', '8', 'A')\n",
            "('Adam', '8', 'B')\n",
            "('Ann', '10', 'A')\n"
          ]
        }
      ]
    },
    {
      "cell_type": "markdown",
      "source": [
        ""
      ],
      "metadata": {
        "id": "sQl2FS7c87sq"
      }
    },
    {
      "cell_type": "code",
      "source": [
        "conn.close()\n"
      ],
      "metadata": {
        "id": "zhToNe2J5FIl"
      },
      "execution_count": 14,
      "outputs": []
    },
    {
      "cell_type": "code",
      "source": [
        "import sqlite3\n",
        " \n",
        "conn = sqlite3.connect('NewDB4.db')\n",
        "\n",
        " \n",
        "cursor = conn.cursor()\n",
        "\n",
        " \n",
        "table =\"\"\"CREATE TABLE STUDENT(NAME VARCHAR(255), CLASS VARCHAR(255), SECTION VARCHAR(255));\"\"\"\n",
        "cursor.execute(table)\n",
        "\n",
        "\n",
        "cursor.execute('''INSERT INTO STUDENT VALUES ('John', '8', 'A')''')\n",
        "cursor.execute('''INSERT INTO STUDENT VALUES ('Adam', '8', 'B')''')\n",
        "cursor.execute('''INSERT INTO STUDENT VALUES ('Ann', '10', 'A')''')\n",
        "\n",
        "\n",
        "print(\"Data Inserted in the table: \")\n",
        "data=cursor.execute('''SELECT * FROM STUDENT''')\n",
        "for row in data:\n",
        "\tprint(row)\n",
        "\n",
        "\n",
        "conn.commit()\n",
        "\n",
        "conn.close()"
      ],
      "metadata": {
        "colab": {
          "base_uri": "https://localhost:8080/"
        },
        "id": "zFD-lMP88_qp",
        "outputId": "a5dbc953-c4b3-48e7-b005-b5b2cc1e02ce"
      },
      "execution_count": 28,
      "outputs": [
        {
          "output_type": "stream",
          "name": "stdout",
          "text": [
            "Data Inserted in the table: \n",
            "('John', '8', 'A')\n",
            "('Adam', '8', 'B')\n",
            "('Ann', '10', 'A')\n"
          ]
        }
      ]
    },
    {
      "cell_type": "code",
      "source": [
        "import sqlite3\n",
        " \n",
        "conn = sqlite3.connect('NewDB5.db')\n",
        "\n",
        " \n",
        "cursor = conn.cursor()\n",
        "\n",
        " \n",
        "table =\"\"\"CREATE TABLE STUDENT(NAME VARCHAR(255), CLASS VARCHAR(255), SECTION VARCHAR(255));\"\"\"\n",
        "cursor.execute(table)\n",
        "\n",
        "\n",
        "cursor.execute('''INSERT INTO STUDENT VALUES ('John', '8', 'A')''')\n",
        "cursor.execute('''INSERT INTO STUDENT VALUES ('Adam', '8', 'B')''')\n",
        "cursor.execute('''INSERT INTO STUDENT VALUES ('Ann', '10', 'A')''')\n",
        "\n",
        "\n",
        "cursor.execute(\"SELECT * FROM STUDENT WHERE CLASS = '10'\")\n",
        "\n",
        "print(cursor.fetchall())\n",
        "  \n",
        "conn.commit()\n",
        "conn.close()"
      ],
      "metadata": {
        "colab": {
          "base_uri": "https://localhost:8080/"
        },
        "id": "OuFbGwlmAeef",
        "outputId": "575bfc8e-7658-406d-d18d-f73512e8deff"
      },
      "execution_count": 29,
      "outputs": [
        {
          "output_type": "stream",
          "name": "stdout",
          "text": [
            "[('Ann', '10', 'A')]\n"
          ]
        }
      ]
    },
    {
      "cell_type": "code",
      "source": [
        "import sqlite3\n",
        " \n",
        "conn = sqlite3.connect('NewDB7.db')\n",
        "\n",
        " \n",
        "cursor = conn.cursor()\n",
        "\n",
        " \n",
        "table =\"\"\"CREATE TABLE STUDENT(NAME VARCHAR(255), CLASS VARCHAR(255), SECTION VARCHAR(255));\"\"\"\n",
        "cursor.execute(table)\n",
        "\n",
        "\n",
        "cursor.execute('''INSERT INTO STUDENT VALUES ('John', '8', 'A')''')\n",
        "cursor.execute('''INSERT INTO STUDENT VALUES ('Adam', '8', 'B')''')\n",
        "cursor.execute('''INSERT INTO STUDENT VALUES ('Ann', '10', 'A')''')\n",
        "\n",
        "\n",
        "cursor.execute(\"SELECT * FROM STUDENT WHERE NAME Like'A%' \")\n",
        "\n",
        "print(cursor.fetchall())\n",
        "  \n",
        "conn.commit()\n",
        "conn.close()"
      ],
      "metadata": {
        "colab": {
          "base_uri": "https://localhost:8080/"
        },
        "id": "rfzXyulPBjhJ",
        "outputId": "4fd70b45-48c6-494f-e8d5-9a30e30176de"
      },
      "execution_count": 30,
      "outputs": [
        {
          "output_type": "stream",
          "name": "stdout",
          "text": [
            "[('Adam', '8', 'B'), ('Ann', '10', 'A')]\n"
          ]
        }
      ]
    },
    {
      "cell_type": "code",
      "source": [
        ""
      ],
      "metadata": {
        "id": "_sI-fZFGB5um"
      },
      "execution_count": null,
      "outputs": []
    }
  ]
}